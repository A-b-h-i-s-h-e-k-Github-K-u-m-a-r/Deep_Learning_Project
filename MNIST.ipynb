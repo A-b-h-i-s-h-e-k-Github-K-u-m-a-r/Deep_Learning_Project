{
  "nbformat": 4,
  "nbformat_minor": 0,
  "metadata": {
    "colab": {
      "name": "MNIST.ipynb",
      "provenance": [],
      "authorship_tag": "ABX9TyOMpBGMP4jUpyjwk3kEBsc7",
      "include_colab_link": true
    },
    "kernelspec": {
      "name": "python3",
      "display_name": "Python 3"
    }
  },
  "cells": [
    {
      "cell_type": "markdown",
      "metadata": {
        "id": "view-in-github",
        "colab_type": "text"
      },
      "source": [
        "<a href=\"https://colab.research.google.com/github/A-b-h-i-s-h-e-k-Github-K-u-m-a-r/Deep_Learning_Project/blob/main/MNIST.ipynb\" target=\"_parent\"><img src=\"https://colab.research.google.com/assets/colab-badge.svg\" alt=\"Open In Colab\"/></a>"
      ]
    },
    {
      "cell_type": "code",
      "metadata": {
        "id": "AG3fhx-WRFBQ"
      },
      "source": [
        "import keras\r\n",
        "from keras import layers\r\n",
        "\r\n",
        "# This is the size of our encoded representations\r\n",
        "encoding_dim = 32  # 32 floats -> compression of factor 24.5, assuming the input is 784 floats\r\n",
        "\r\n",
        "# This is our input image\r\n",
        "input_img = keras.Input(shape=(784,))\r\n",
        "# \"encoded\" is the encoded representation of the input\r\n",
        "encoded = layers.Dense(encoding_dim, activation='relu')(input_img)\r\n",
        "# \"decoded\" is the lossy reconstruction of the input\r\n",
        "decoded = layers.Dense(784, activation='sigmoid')(encoded)\r\n",
        "\r\n",
        "# This model maps an input to its reconstruction\r\n",
        "autoencoder = keras.Model(input_img, decoded)\r\n"
      ],
      "execution_count": 2,
      "outputs": []
    },
    {
      "cell_type": "markdown",
      "metadata": {
        "id": "Fn0vIvjKTGqA"
      },
      "source": [
        "# **Adding a sparsity constraint on the encoded representations**"
      ]
    },
    {
      "cell_type": "code",
      "metadata": {
        "id": "PWcgRHVcRkFP"
      },
      "source": [
        "import keras\r\n",
        "from keras import regularizers\r\n",
        "from keras import layers\r\n",
        "encoding_dim = 32\r\n",
        "\r\n",
        "input_img = keras.Input(shape=(784,))\r\n",
        "# Add a Dense layer with a L1 activity regularizer\r\n",
        "encoded = layers.Dense(encoding_dim, activation='relu',\r\n",
        "                activity_regularizer=regularizers.l1(10e-5))(input_img)\r\n",
        "decoded = layers.Dense(784, activation='sigmoid')(encoded)\r\n",
        "\r\n",
        "autoencoder = keras.Model(input_img, decoded)"
      ],
      "execution_count": 17,
      "outputs": []
    },
    {
      "cell_type": "code",
      "metadata": {
        "id": "EHvlJxdJRLgA"
      },
      "source": [
        "# This model maps an input to its encoded representation\r\n",
        "encoder = keras.Model(input_img, encoded)\r\n"
      ],
      "execution_count": 18,
      "outputs": []
    },
    {
      "cell_type": "code",
      "metadata": {
        "id": "8Znbr5-VRMqM"
      },
      "source": [
        "# This is our encoded (32-dimensional) input\r\n",
        "encoded_input = keras.Input(shape=(encoding_dim,))\r\n",
        "# Retrieve the last layer of the autoencoder model\r\n",
        "decoder_layer = autoencoder.layers[-1]\r\n",
        "# Create the decoder model\r\n",
        "decoder = keras.Model(encoded_input, decoder_layer(encoded_input))\r\n"
      ],
      "execution_count": 19,
      "outputs": []
    },
    {
      "cell_type": "code",
      "metadata": {
        "id": "_uD4OfCzRP4k"
      },
      "source": [
        "autoencoder.compile(optimizer='adam', loss='binary_crossentropy')\r\n"
      ],
      "execution_count": 20,
      "outputs": []
    },
    {
      "cell_type": "code",
      "metadata": {
        "id": "zYglCkGVRUTD"
      },
      "source": [
        "from keras.datasets import mnist\r\n",
        "import numpy as np\r\n",
        "(x_train, _), (x_test, _) = mnist.load_data()\r\n"
      ],
      "execution_count": 22,
      "outputs": []
    },
    {
      "cell_type": "code",
      "metadata": {
        "id": "1BOlXUPuRWYo",
        "colab": {
          "base_uri": "https://localhost:8080/"
        },
        "outputId": "0f90126b-368a-4146-bccb-452b3ebc2f7e"
      },
      "source": [
        "x_train = x_train.astype('float32') / 255.\r\n",
        "x_test = x_test.astype('float32') / 255.\r\n",
        "x_train = x_train.reshape((len(x_train), np.prod(x_train.shape[1:])))\r\n",
        "x_test = x_test.reshape((len(x_test), np.prod(x_test.shape[1:])))\r\n",
        "print(x_train.shape)\r\n",
        "print(x_test.shape)"
      ],
      "execution_count": 23,
      "outputs": [
        {
          "output_type": "stream",
          "text": [
            "(60000, 784)\n",
            "(10000, 784)\n"
          ],
          "name": "stdout"
        }
      ]
    },
    {
      "cell_type": "code",
      "metadata": {
        "id": "iYC-dkFvRZag",
        "colab": {
          "base_uri": "https://localhost:8080/"
        },
        "outputId": "e2ad229b-f5d2-4496-f288-f0f41ef5af04"
      },
      "source": [
        "autoencoder.fit(x_train, x_train,\r\n",
        "                epochs=50,\r\n",
        "                batch_size=256,\r\n",
        "                shuffle=True,\r\n",
        "                validation_data=(x_test, x_test))"
      ],
      "execution_count": 24,
      "outputs": [
        {
          "output_type": "stream",
          "text": [
            "Epoch 1/50\n",
            "235/235 [==============================] - 3s 11ms/step - loss: 0.3963 - val_loss: 0.1956\n",
            "Epoch 2/50\n",
            "235/235 [==============================] - 2s 11ms/step - loss: 0.1865 - val_loss: 0.1615\n",
            "Epoch 3/50\n",
            "235/235 [==============================] - 3s 11ms/step - loss: 0.1577 - val_loss: 0.1430\n",
            "Epoch 4/50\n",
            "235/235 [==============================] - 2s 11ms/step - loss: 0.1412 - val_loss: 0.1313\n",
            "Epoch 5/50\n",
            "235/235 [==============================] - 3s 11ms/step - loss: 0.1306 - val_loss: 0.1235\n",
            "Epoch 6/50\n",
            "235/235 [==============================] - 3s 11ms/step - loss: 0.1233 - val_loss: 0.1178\n",
            "Epoch 7/50\n",
            "235/235 [==============================] - 3s 11ms/step - loss: 0.1182 - val_loss: 0.1136\n",
            "Epoch 8/50\n",
            "235/235 [==============================] - 3s 11ms/step - loss: 0.1141 - val_loss: 0.1106\n",
            "Epoch 9/50\n",
            "235/235 [==============================] - 3s 11ms/step - loss: 0.1113 - val_loss: 0.1084\n",
            "Epoch 10/50\n",
            "235/235 [==============================] - 2s 11ms/step - loss: 0.1094 - val_loss: 0.1069\n",
            "Epoch 11/50\n",
            "235/235 [==============================] - 2s 10ms/step - loss: 0.1079 - val_loss: 0.1058\n",
            "Epoch 12/50\n",
            "235/235 [==============================] - 2s 10ms/step - loss: 0.1070 - val_loss: 0.1049\n",
            "Epoch 13/50\n",
            "235/235 [==============================] - 2s 10ms/step - loss: 0.1062 - val_loss: 0.1043\n",
            "Epoch 14/50\n",
            "235/235 [==============================] - 2s 10ms/step - loss: 0.1055 - val_loss: 0.1038\n",
            "Epoch 15/50\n",
            "235/235 [==============================] - 2s 10ms/step - loss: 0.1051 - val_loss: 0.1033\n",
            "Epoch 16/50\n",
            "235/235 [==============================] - 2s 10ms/step - loss: 0.1044 - val_loss: 0.1030\n",
            "Epoch 17/50\n",
            "235/235 [==============================] - 2s 10ms/step - loss: 0.1041 - val_loss: 0.1026\n",
            "Epoch 18/50\n",
            "235/235 [==============================] - 2s 10ms/step - loss: 0.1037 - val_loss: 0.1023\n",
            "Epoch 19/50\n",
            "235/235 [==============================] - 2s 10ms/step - loss: 0.1034 - val_loss: 0.1020\n",
            "Epoch 20/50\n",
            "235/235 [==============================] - 2s 10ms/step - loss: 0.1031 - val_loss: 0.1018\n",
            "Epoch 21/50\n",
            "235/235 [==============================] - 2s 11ms/step - loss: 0.1031 - val_loss: 0.1015\n",
            "Epoch 22/50\n",
            "235/235 [==============================] - 2s 10ms/step - loss: 0.1027 - val_loss: 0.1012\n",
            "Epoch 23/50\n",
            "235/235 [==============================] - 2s 10ms/step - loss: 0.1024 - val_loss: 0.1011\n",
            "Epoch 24/50\n",
            "235/235 [==============================] - 2s 11ms/step - loss: 0.1021 - val_loss: 0.1010\n",
            "Epoch 25/50\n",
            "235/235 [==============================] - 2s 11ms/step - loss: 0.1022 - val_loss: 0.1006\n",
            "Epoch 26/50\n",
            "235/235 [==============================] - 3s 11ms/step - loss: 0.1016 - val_loss: 0.1005\n",
            "Epoch 27/50\n",
            "235/235 [==============================] - 3s 11ms/step - loss: 0.1015 - val_loss: 0.1003\n",
            "Epoch 28/50\n",
            "235/235 [==============================] - 2s 11ms/step - loss: 0.1013 - val_loss: 0.1002\n",
            "Epoch 29/50\n",
            "235/235 [==============================] - 2s 11ms/step - loss: 0.1012 - val_loss: 0.1000\n",
            "Epoch 30/50\n",
            "235/235 [==============================] - 2s 10ms/step - loss: 0.1013 - val_loss: 0.0998\n",
            "Epoch 31/50\n",
            "235/235 [==============================] - 2s 10ms/step - loss: 0.1009 - val_loss: 0.0997\n",
            "Epoch 32/50\n",
            "235/235 [==============================] - 2s 10ms/step - loss: 0.1008 - val_loss: 0.0996\n",
            "Epoch 33/50\n",
            "235/235 [==============================] - 2s 11ms/step - loss: 0.1007 - val_loss: 0.0994\n",
            "Epoch 34/50\n",
            "235/235 [==============================] - 3s 11ms/step - loss: 0.1004 - val_loss: 0.0994\n",
            "Epoch 35/50\n",
            "235/235 [==============================] - 3s 11ms/step - loss: 0.1005 - val_loss: 0.0992\n",
            "Epoch 36/50\n",
            "235/235 [==============================] - 3s 11ms/step - loss: 0.1004 - val_loss: 0.0991\n",
            "Epoch 37/50\n",
            "235/235 [==============================] - 3s 11ms/step - loss: 0.1003 - val_loss: 0.0990\n",
            "Epoch 38/50\n",
            "235/235 [==============================] - 3s 12ms/step - loss: 0.1002 - val_loss: 0.0989\n",
            "Epoch 39/50\n",
            "235/235 [==============================] - 3s 11ms/step - loss: 0.0999 - val_loss: 0.0988\n",
            "Epoch 40/50\n",
            "235/235 [==============================] - 3s 11ms/step - loss: 0.0997 - val_loss: 0.0988\n",
            "Epoch 41/50\n",
            "235/235 [==============================] - 3s 11ms/step - loss: 0.0998 - val_loss: 0.0987\n",
            "Epoch 42/50\n",
            "235/235 [==============================] - 3s 11ms/step - loss: 0.0996 - val_loss: 0.0985\n",
            "Epoch 43/50\n",
            "235/235 [==============================] - 3s 11ms/step - loss: 0.0995 - val_loss: 0.0985\n",
            "Epoch 44/50\n",
            "235/235 [==============================] - 3s 11ms/step - loss: 0.0993 - val_loss: 0.0984\n",
            "Epoch 45/50\n",
            "235/235 [==============================] - 3s 11ms/step - loss: 0.0994 - val_loss: 0.0983\n",
            "Epoch 46/50\n",
            "235/235 [==============================] - 3s 11ms/step - loss: 0.0994 - val_loss: 0.0982\n",
            "Epoch 47/50\n",
            "235/235 [==============================] - 3s 11ms/step - loss: 0.0991 - val_loss: 0.0982\n",
            "Epoch 48/50\n",
            "235/235 [==============================] - 3s 11ms/step - loss: 0.0994 - val_loss: 0.0981\n",
            "Epoch 49/50\n",
            "235/235 [==============================] - 3s 11ms/step - loss: 0.0992 - val_loss: 0.0980\n",
            "Epoch 50/50\n",
            "235/235 [==============================] - 3s 12ms/step - loss: 0.0989 - val_loss: 0.0979\n"
          ],
          "name": "stdout"
        },
        {
          "output_type": "execute_result",
          "data": {
            "text/plain": [
              "<tensorflow.python.keras.callbacks.History at 0x7f9df92110b8>"
            ]
          },
          "metadata": {
            "tags": []
          },
          "execution_count": 24
        }
      ]
    },
    {
      "cell_type": "code",
      "metadata": {
        "id": "K8Q97_I8RcNC"
      },
      "source": [
        "# Encode and decode some digits\r\n",
        "# Note that we take them from the *test* set\r\n",
        "encoded_imgs = encoder.predict(x_test)\r\n",
        "decoded_imgs = decoder.predict(encoded_imgs)"
      ],
      "execution_count": 25,
      "outputs": []
    },
    {
      "cell_type": "code",
      "metadata": {
        "id": "S0ImY1M6ReU6",
        "colab": {
          "base_uri": "https://localhost:8080/",
          "height": 248
        },
        "outputId": "2e2e6c1a-7d89-4eab-a120-59216d27da3e"
      },
      "source": [
        "# Use Matplotlib (don't ask)\r\n",
        "import matplotlib.pyplot as plt\r\n",
        "\r\n",
        "n = 10  # How many digits we will display\r\n",
        "plt.figure(figsize=(20, 4))\r\n",
        "for i in range(n):\r\n",
        "    # Display original\r\n",
        "    ax = plt.subplot(2, n, i + 1)\r\n",
        "    plt.imshow(x_test[i].reshape(28, 28))\r\n",
        "    plt.gray()\r\n",
        "    ax.get_xaxis().set_visible(False)\r\n",
        "    ax.get_yaxis().set_visible(False)\r\n",
        "\r\n",
        "    # Display reconstruction\r\n",
        "    ax = plt.subplot(2, n, i + 1 + n)\r\n",
        "    plt.imshow(decoded_imgs[i].reshape(28, 28))\r\n",
        "    plt.gray()\r\n",
        "    ax.get_xaxis().set_visible(False)\r\n",
        "    ax.get_yaxis().set_visible(False)\r\n",
        "plt.show()\r\n"
      ],
      "execution_count": 26,
      "outputs": [
        {
          "output_type": "display_data",
          "data": {
            "image/png": "[encoded data removed]",
            "text/plain": [
              "<Figure size 1440x288 with 20 Axes>"
            ]
          },
          "metadata": {
            "tags": [],
            "needs_background": "light"
          }
        }
      ]
    },
    {
      "cell_type": "code",
      "metadata": {
        "id": "W37rabWJTFxb"
      },
      "source": [
        ""
      ],
      "execution_count": null,
      "outputs": []
    }
  ]
}
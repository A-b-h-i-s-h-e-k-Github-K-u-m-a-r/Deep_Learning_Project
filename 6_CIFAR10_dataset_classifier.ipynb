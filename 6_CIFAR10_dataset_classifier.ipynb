{
  "nbformat": 4,
  "nbformat_minor": 0,
  "metadata": {
    "colab": {
      "name": "6_CIFAR10_dataset_classifier.ipynb",
      "provenance": [],
      "collapsed_sections": [],
      "include_colab_link": true
    },
    "kernelspec": {
      "name": "python3",
      "display_name": "Python 3"
    }
  },
  "cells": [
    {
      "cell_type": "markdown",
      "metadata": {
        "id": "view-in-github",
        "colab_type": "text"
      },
      "source": [
        "<a href=\"https://colab.research.google.com/github/A-b-h-i-s-h-e-k-Github-K-u-m-a-r/Deep_Learning_Project/blob/main/6_CIFAR10_dataset_classifier.ipynb\" target=\"_parent\"><img src=\"https://colab.research.google.com/assets/colab-badge.svg\" alt=\"Open In Colab\"/></a>"
      ]
    },
    {
      "cell_type": "code",
      "metadata": {
        "colab": {
          "base_uri": "https://localhost:8080/"
        },
        "id": "7QbC0YsCKKgV",
        "outputId": "d4f52033-06c3-4ac2-eaff-e04cad4a6f17"
      },
      "source": [
        "import tensorflow as tf\n",
        "import keras\n",
        "from keras import datasets\n",
        "import numpy as np\n",
        "from keras.layers import Conv2D\n",
        "\n",
        "\n",
        "\n",
        "(training_images, training_labels), (test_images, test_labels) = tf.keras.datasets.cifar10.load_data()\n",
        "training_images=training_images / 255.0\n",
        "test_images=test_images/255.0\n",
        "model = tf.keras.models.Sequential([\n",
        "  tf.keras.layers.Conv2D(64, (3,3), activation='relu', input_shape=(32, 32, 3)),\n",
        "  tf.keras.layers.MaxPooling2D(2, 2),\n",
        "  tf.keras.layers.Conv2D(64, (3,3), activation='relu'),\n",
        "  tf.keras.layers.MaxPooling2D(2,2),\n",
        "  tf.keras.layers.Flatten(),\n",
        "  tf.keras.layers.Dense(128, activation='relu'),\n",
        "  tf.keras.layers.Dense(10, activation='softmax')\n",
        "])\n",
        "model.compile(optimizer='adam', loss='sparse_categorical_crossentropy', metrics=['accuracy'])\n",
        "model.summary()\n",
        "model.fit(training_images, training_labels, epochs=5)\n",
        "test_loss = model.evaluate(test_images, test_labels)"
      ],
      "execution_count": null,
      "outputs": [
        {
          "output_type": "stream",
          "text": [
            "Downloading data from https://www.cs.toronto.edu/~kriz/cifar-10-python.tar.gz\n",
            "170500096/170498071 [==============================] - 6s 0us/step\n",
            "Model: \"sequential\"\n",
            "_________________________________________________________________\n",
            "Layer (type)                 Output Shape              Param #   \n",
            "=================================================================\n",
            "conv2d (Conv2D)              (None, 30, 30, 64)        1792      \n",
            "_________________________________________________________________\n",
            "max_pooling2d (MaxPooling2D) (None, 15, 15, 64)        0         \n",
            "_________________________________________________________________\n",
            "conv2d_1 (Conv2D)            (None, 13, 13, 64)        36928     \n",
            "_________________________________________________________________\n",
            "max_pooling2d_1 (MaxPooling2 (None, 6, 6, 64)          0         \n",
            "_________________________________________________________________\n",
            "flatten (Flatten)            (None, 2304)              0         \n",
            "_________________________________________________________________\n",
            "dense (Dense)                (None, 128)               295040    \n",
            "_________________________________________________________________\n",
            "dense_1 (Dense)              (None, 10)                1290      \n",
            "=================================================================\n",
            "Total params: 335,050\n",
            "Trainable params: 335,050\n",
            "Non-trainable params: 0\n",
            "_________________________________________________________________\n",
            "Epoch 1/5\n",
            "1563/1563 [==============================] - 89s 56ms/step - loss: 1.6668 - accuracy: 0.3961\n",
            "Epoch 2/5\n",
            "1563/1563 [==============================] - 87s 56ms/step - loss: 1.0946 - accuracy: 0.6194\n",
            "Epoch 3/5\n",
            "1563/1563 [==============================] - 87s 55ms/step - loss: 0.9353 - accuracy: 0.6765\n",
            "Epoch 4/5\n",
            "1563/1563 [==============================] - 87s 56ms/step - loss: 0.8255 - accuracy: 0.7121\n",
            "Epoch 5/5\n",
            "1563/1563 [==============================] - 88s 56ms/step - loss: 0.7467 - accuracy: 0.7427\n",
            "313/313 [==============================] - 5s 15ms/step - loss: 0.8836 - accuracy: 0.6992\n"
          ],
          "name": "stdout"
        }
      ]
    },
    {
      "cell_type": "code",
      "metadata": {
        "id": "D_LjUib_Kmt4"
      },
      "source": [
        ""
      ],
      "execution_count": null,
      "outputs": []
    }
  ]
}